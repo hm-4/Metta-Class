{
 "cells": [
  {
   "cell_type": "code",
   "execution_count": 1,
   "metadata": {},
   "outputs": [],
   "source": [
    "import sys\n",
    "import os\n",
    "import gc\n",
    "# Add the parent directory to the system path\n",
    "sys.path.append(os.path.abspath(os.path.join(os.getcwd(), os.pardir)))\n"
   ]
  },
  {
   "cell_type": "code",
   "execution_count": 2,
   "metadata": {},
   "outputs": [],
   "source": [
    "from ZeroHelperFunctions.JamesWeb import JamesWeb\n",
    "from ZeroHelperFunctions.SaveLoadModels import save_model, load_model\n",
    "from Networks.networks import FullyConnectedNet"
   ]
  },
  {
   "cell_type": "code",
   "execution_count": 3,
   "metadata": {},
   "outputs": [],
   "source": [
    "NUM_DIMENSIONS = 28*28\n",
    "sample_mnist_model = FullyConnectedNet(input_dim=NUM_DIMENSIONS,\n",
    "                    layer1_dim=NUM_DIMENSIONS * 10,\n",
    "                    layer2_dim=NUM_DIMENSIONS * 5,\n",
    "                    layer3_dim=11*10,\n",
    "                    num_classes=11)\n",
    "\n",
    "sample_fk_mnist_model = FullyConnectedNet(input_dim=NUM_DIMENSIONS,\n",
    "                    layer1_dim=NUM_DIMENSIONS * 15,\n",
    "                    layer2_dim=NUM_DIMENSIONS * 7,\n",
    "                    layer3_dim=11*10,\n",
    "                    num_classes=11)"
   ]
  },
  {
   "cell_type": "code",
   "execution_count": 4,
   "metadata": {},
   "outputs": [
    {
     "name": "stdout",
     "output_type": "stream",
     "text": [
      "\n",
      "\n",
      "Data format: \n",
      "--------------------------------\n",
      "type(train_data.data[0]) -> <class 'torch.Tensor'>\n",
      "train_data.data[0].dtype -> torch.float32\n",
      "\n",
      "type(train_data.targets) -> <class 'torch.Tensor'>\n",
      "train_data.targets.dtype -> torch.int64\n",
      "\n",
      "\n",
      "Access Data by indexing\n",
      "--------------------------------\n",
      "train_data[0] -> (torch.Size([28, 28]), torch.Size([]))\n",
      "\n",
      "\n",
      "max and min values of train_data.data:\n",
      "--------------------------------\n",
      "\t[(tensor(0.), tensor(1.))]\n",
      "\n",
      "\n",
      "================================\n",
      "\n",
      "\n",
      "\n",
      "Data format: \n",
      "--------------------------------\n",
      "type(train_data.data[0]) -> <class 'torch.Tensor'>\n",
      "train_data.data[0].dtype -> torch.float32\n",
      "\n",
      "type(train_data.targets) -> <class 'torch.Tensor'>\n",
      "train_data.targets.dtype -> torch.int64\n",
      "\n",
      "\n",
      "Access Data by indexing\n",
      "--------------------------------\n",
      "train_data[0] -> (torch.Size([28, 28]), torch.Size([]))\n",
      "\n",
      "\n",
      "max and min values of train_data.data:\n",
      "--------------------------------\n",
      "\t[(tensor(0.), tensor(1.))]\n",
      "\n",
      "\n",
      "================================\n",
      "\n",
      "\n",
      "\n",
      "Data format: \n",
      "--------------------------------\n",
      "type(train_data.data[0]) -> <class 'torch.Tensor'>\n",
      "train_data.data[0].dtype -> torch.float32\n",
      "\n",
      "type(train_data.targets) -> <class 'torch.Tensor'>\n",
      "train_data.targets.dtype -> torch.int64\n",
      "\n",
      "\n",
      "Access Data by indexing\n",
      "--------------------------------\n",
      "train_data[0] -> (torch.Size([28, 28]), torch.Size([]))\n",
      "\n",
      "\n",
      "max and min values of train_data.data:\n",
      "--------------------------------\n",
      "\t[(tensor(0.), tensor(1.))]\n",
      "\n",
      "\n",
      "================================\n",
      "\n"
     ]
    }
   ],
   "source": [
    "import torch\n",
    "\n",
    "mnist_model = load_model(sample_mnist_model,\n",
    "                                 model_save_path=\"models/mnist_full.pth\", \n",
    "                                 device=\"cuda\" if torch.cuda.is_available() else \"cpu\")\n",
    "fashion_mnist_model = load_model(sample_fk_mnist_model,\n",
    "                                 model_save_path=\"models/fashion_mnist_full.pth\", \n",
    "                                 device=\"cuda\" if torch.cuda.is_available() else \"cpu\")\n",
    "k_mnist_model = load_model(sample_fk_mnist_model,\n",
    "                                 model_save_path=\"models/k_mnist_full.pth\", \n",
    "                                 device=\"cuda\" if torch.cuda.is_available() else \"cpu\")\n",
    "\n",
    "from MnistHelperFunctions.get_standard_data import preprocessed_mnist, preprocessed_fashion_mnist, preprocessed_k_mnist\n",
    "mnist_train_data, mnist_test_data = preprocessed_mnist()\n",
    "fashion_mnist_train_data, fashion_mnist_test_data = preprocessed_fashion_mnist()\n",
    "k_mnist_train_data, k_mnist_test_data = preprocessed_k_mnist()"
   ]
  },
  {
   "cell_type": "code",
   "execution_count": 5,
   "metadata": {},
   "outputs": [],
   "source": [
    "james = JamesWeb(device=\"cuda\" if torch.cuda.is_available() else \"cpu\")"
   ]
  },
  {
   "cell_type": "code",
   "execution_count": 6,
   "metadata": {},
   "outputs": [
    {
     "name": "stdout",
     "output_type": "stream",
     "text": [
      "mnist is in the list at index 0.\n",
      "fashion_mnist is in the list at index 1.\n"
     ]
    }
   ],
   "source": [
    "james.add_model(mnist_model,\n",
    "                \"mnist\")\n",
    "mnist_test_data.targets = james.convert_labels(mnist_test_data.targets,\n",
    "                                               \"mnist\")\n",
    "james.add_model(fashion_mnist_model,\n",
    "                \"fashion_mnist\")\n",
    "fashion_mnist_test_data.targets = james.convert_labels(fashion_mnist_test_data.targets,\n",
    "                                                       \"fashion_mnist\")"
   ]
  },
  {
   "cell_type": "code",
   "execution_count": 7,
   "metadata": {},
   "outputs": [
    {
     "data": {
      "text/plain": [
       "['mnist', 'fashion_mnist']"
      ]
     },
     "execution_count": 7,
     "metadata": {},
     "output_type": "execute_result"
    }
   ],
   "source": [
    "james.model_names"
   ]
  },
  {
   "cell_type": "code",
   "execution_count": 8,
   "metadata": {},
   "outputs": [
    {
     "data": {
      "text/plain": [
       "(tensor([[0, 0, 0, 0, 0, 0, 0, 0, 1, 0, 0, 0, 0, 0, 0, 0, 0, 0, 0, 0],\n",
       "         [7, 2, 1, 0, 4, 1, 4, 9, 2, 9, 0, 6, 9, 0, 1, 5, 9, 7, 3, 4]]),\n",
       " tensor([[0, 0, 0, 0, 0, 0, 0, 0, 0, 0, 0, 0, 0, 0, 0, 0, 0, 0, 0, 0],\n",
       "         [7, 2, 1, 0, 4, 1, 4, 9, 5, 9, 0, 6, 9, 0, 1, 5, 9, 7, 3, 4]]))"
      ]
     },
     "execution_count": 8,
     "metadata": {},
     "output_type": "execute_result"
    }
   ],
   "source": [
    "james.predictions(mnist_test_data.data[:20]).transpose(0, 1), mnist_test_data.targets[:20].transpose(0, 1)"
   ]
  },
  {
   "cell_type": "code",
   "execution_count": 11,
   "metadata": {},
   "outputs": [
    {
     "data": {
      "text/plain": [
       "(tensor([[ 0,  0,  1,  1,  0,  0,  0,  1,  0,  1,  0,  0,  1,  1,  1,  0,  0,  0,\n",
       "           1,  1],\n",
       "         [ 2, 10,  1,  6, 10,  0, 10,  6,  4,  7, 10,  2,  7,  8,  6,  3, 10, 10,\n",
       "           0,  6]]),\n",
       " tensor([[1, 1, 1, 1, 1, 1, 1, 1, 1, 1, 1, 1, 1, 1, 1, 1, 1, 1, 1, 1],\n",
       "         [9, 2, 1, 1, 6, 1, 4, 6, 5, 7, 4, 5, 7, 3, 4, 1, 2, 4, 8, 0]]))"
      ]
     },
     "execution_count": 11,
     "metadata": {},
     "output_type": "execute_result"
    }
   ],
   "source": [
    "james.predictions(fashion_mnist_test_data.data[:20]).transpose(0, 1), fashion_mnist_test_data.targets[:20].transpose(0, 1)"
   ]
  },
  {
   "cell_type": "code",
   "execution_count": null,
   "metadata": {},
   "outputs": [],
   "source": []
  }
 ],
 "metadata": {
  "kernelspec": {
   "display_name": "Python 3",
   "language": "python",
   "name": "python3"
  },
  "language_info": {
   "codemirror_mode": {
    "name": "ipython",
    "version": 3
   },
   "file_extension": ".py",
   "mimetype": "text/x-python",
   "name": "python",
   "nbconvert_exporter": "python",
   "pygments_lexer": "ipython3",
   "version": "3.6.8"
  }
 },
 "nbformat": 4,
 "nbformat_minor": 2
}
