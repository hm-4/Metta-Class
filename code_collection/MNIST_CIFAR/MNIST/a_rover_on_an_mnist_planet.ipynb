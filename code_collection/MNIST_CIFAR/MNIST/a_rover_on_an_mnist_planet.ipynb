{
 "cells": [
  {
   "cell_type": "code",
   "execution_count": 1,
   "metadata": {},
   "outputs": [],
   "source": [
    "import sys\n",
    "import os\n",
    "import gc\n",
    "# Add the parent directory to the system path\n",
    "sys.path.append(os.path.abspath(os.path.join(os.getcwd(), os.pardir)))"
   ]
  },
  {
   "cell_type": "code",
   "execution_count": 2,
   "metadata": {},
   "outputs": [
    {
     "name": "stdout",
     "output_type": "stream",
     "text": [
      "inside getting data\n"
     ]
    }
   ],
   "source": [
    "from MnistHelperFunctions.get_standard_data import preprocessed_mnist, preprocessed_fashion_mnist, preprocessed_k_mnist"
   ]
  },
  {
   "cell_type": "code",
   "execution_count": 3,
   "metadata": {},
   "outputs": [],
   "source": [
    "from ZeroHelperFunctions.zeroTrainer import ZeroTrainer\n",
    "from Networks.networks import FullyConnectedNet, FullyConnectedNet_powerful\n",
    "from ZeroHelperFunctions.DataLoadersForZero import DataLoadersForZero\n",
    "from ZeroHelperFunctions import plots\n",
    "from ZeroHelperFunctions.JamesWeb import JamesWeb\n",
    "from ZeroHelperFunctions.Accuracy_fn import repository_accuracy_fn\n"
   ]
  },
  {
   "cell_type": "code",
   "execution_count": 4,
   "metadata": {},
   "outputs": [],
   "source": [
    "import torch\n",
    "from torch import nn\n",
    "\n",
    "# label for zero classes is number of non-zero classes."
   ]
  },
  {
   "cell_type": "code",
   "execution_count": 5,
   "metadata": {},
   "outputs": [],
   "source": [
    "NUM_EPOCHS = 100"
   ]
  },
  {
   "cell_type": "code",
   "execution_count": 6,
   "metadata": {},
   "outputs": [
    {
     "name": "stdout",
     "output_type": "stream",
     "text": [
      "Using device: cpu\n"
     ]
    }
   ],
   "source": [
    "device = \"cuda\" if torch.cuda.is_available() else \"cpu\"\n",
    "print(f\"Using device: {device}\")"
   ]
  },
  {
   "cell_type": "markdown",
   "metadata": {},
   "source": [
    "# MNIST"
   ]
  },
  {
   "cell_type": "code",
   "execution_count": 7,
   "metadata": {},
   "outputs": [
    {
     "name": "stdout",
     "output_type": "stream",
     "text": [
      "inside getting data3\n",
      "inside getting data2\n",
      "\n",
      "\n",
      "Data format: \n",
      "--------------------------------\n",
      "type(train_data.data[0]) -> <class 'torch.Tensor'>\n",
      "train_data.data[0].dtype -> torch.float32\n",
      "\n",
      "type(train_data.targets) -> <class 'torch.Tensor'>\n",
      "train_data.targets.dtype -> torch.int64\n",
      "\n",
      "\n",
      "Access Data by indexing\n",
      "--------------------------------\n",
      "train_data[0] -> (torch.Size([28, 28]), torch.Size([]))\n",
      "\n",
      "\n",
      "max and min values of train_data.data:\n",
      "--------------------------------\n",
      "\t[(tensor(0.), tensor(1.))]\n",
      "\n",
      "\n",
      "================================\n",
      "\n"
     ]
    },
    {
     "data": {
      "image/png": "[encoded data removed]",
      "text/plain": [
       "<Figure size 600x300 with 2 Axes>"
      ]
     },
     "metadata": {},
     "output_type": "display_data"
    },
    {
     "ename": "KeyboardInterrupt",
     "evalue": "",
     "output_type": "error",
     "traceback": [
      "\u001b[0;31m---------------------------------------------------------------------------\u001b[0m",
      "\u001b[0;31mKeyboardInterrupt\u001b[0m                         Traceback (most recent call last)",
      "Cell \u001b[0;32mIn[7], line 9\u001b[0m\n\u001b[1;32m      3\u001b[0m mnist_train_data, mnist_test_data \u001b[38;5;241m=\u001b[39m preprocessed_mnist()\n\u001b[1;32m      6\u001b[0m mnist_dl \u001b[38;5;241m=\u001b[39m DataLoadersForZero(train_data\u001b[38;5;241m=\u001b[39mmnist_train_data,\n\u001b[1;32m      7\u001b[0m                         test_data\u001b[38;5;241m=\u001b[39mmnist_test_data,\n\u001b[1;32m      8\u001b[0m                         image_shape\u001b[38;5;241m=\u001b[39m(\u001b[38;5;241m1\u001b[39m, \u001b[38;5;241m28\u001b[39m, \u001b[38;5;241m28\u001b[39m))\n\u001b[0;32m----> 9\u001b[0m mnist_dl\u001b[38;5;241m.\u001b[39mmake_dataloaders(batch_size\u001b[38;5;241m=\u001b[39mBATCH_SIZE, \n\u001b[1;32m     10\u001b[0m                     n_train_zeros\u001b[38;5;241m=\u001b[39m\u001b[38;5;241m600_000\u001b[39m, \n\u001b[1;32m     11\u001b[0m                     n_test_zeros\u001b[38;5;241m=\u001b[39m\u001b[38;5;241m10_000\u001b[39m,\n\u001b[1;32m     12\u001b[0m                     label_for_zero\u001b[38;5;241m=\u001b[39m\u001b[38;5;241m10\u001b[39m)\n\u001b[1;32m     13\u001b[0m mnist_dl\u001b[38;5;241m.\u001b[39mgenerate_zero_class_dataloader(\u001b[38;5;241m100_000\u001b[39m, BATCH_SIZE)\n\u001b[1;32m     17\u001b[0m NUM_DIMENSIONS \u001b[38;5;241m=\u001b[39m \u001b[38;5;241m28\u001b[39m\u001b[38;5;241m*\u001b[39m\u001b[38;5;241m28\u001b[39m\n",
      "File \u001b[0;32m~/dv/the_project/zero0.3/ZeroHelperFunctions/DataLoadersForZero.py:66\u001b[0m, in \u001b[0;36mDataLoadersForZero.make_dataloaders\u001b[0;34m(self, batch_size, n_train_zeros, n_test_zeros, label_for_zero)\u001b[0m\n\u001b[1;32m     61\u001b[0m \u001b[38;5;28;01mdef\u001b[39;00m \u001b[38;5;21mmake_dataloaders\u001b[39m(\u001b[38;5;28mself\u001b[39m, batch_size, \n\u001b[1;32m     62\u001b[0m                     n_train_zeros, \n\u001b[1;32m     63\u001b[0m                     n_test_zeros,\n\u001b[1;32m     64\u001b[0m                     label_for_zero):\n\u001b[1;32m     65\u001b[0m     \u001b[38;5;66;03m# generate all zero classdata\u001b[39;00m\n\u001b[0;32m---> 66\u001b[0m     \u001b[38;5;28mself\u001b[39m\u001b[38;5;241m.\u001b[39m_generate_zero_class_Datasets(n_train_zeros\u001b[38;5;241m=\u001b[39mn_train_zeros,\n\u001b[1;32m     67\u001b[0m                                     n_test_zeros\u001b[38;5;241m=\u001b[39mn_test_zeros,\n\u001b[1;32m     68\u001b[0m                                     label_for_zero\u001b[38;5;241m=\u001b[39mlabel_for_zero)\n\u001b[1;32m     69\u001b[0m     \u001b[38;5;66;03m# wrap data\u001b[39;00m\n\u001b[1;32m     70\u001b[0m     \u001b[38;5;28mself\u001b[39m\u001b[38;5;241m.\u001b[39m_wrap_train_and_test_datasets()\n",
      "File \u001b[0;32m~/dv/the_project/zero0.3/ZeroHelperFunctions/DataLoadersForZero.py:49\u001b[0m, in \u001b[0;36mDataLoadersForZero._generate_zero_class_Datasets\u001b[0;34m(self, n_train_zeros, n_test_zeros, label_for_zero)\u001b[0m\n\u001b[1;32m     43\u001b[0m \u001b[38;5;28;01mdef\u001b[39;00m \u001b[38;5;21m_generate_zero_class_Datasets\u001b[39m(\u001b[38;5;28mself\u001b[39m, \n\u001b[1;32m     44\u001b[0m                                 n_train_zeros: \u001b[38;5;28mint\u001b[39m,\n\u001b[1;32m     45\u001b[0m                                 n_test_zeros: \u001b[38;5;28mint\u001b[39m,\n\u001b[1;32m     46\u001b[0m                                 label_for_zero):\n\u001b[1;32m     47\u001b[0m     \u001b[38;5;66;03m# 1. check the compatibility of data .\u001b[39;00m\n\u001b[1;32m     48\u001b[0m     \u001b[38;5;66;03m# 1.1 generate zero class data\u001b[39;00m\n\u001b[0;32m---> 49\u001b[0m     \u001b[38;5;28mself\u001b[39m\u001b[38;5;241m.\u001b[39m_zero_data_for_train \u001b[38;5;241m=\u001b[39m ZeroClassDataset(num_samples\u001b[38;5;241m=\u001b[39mn_train_zeros,\n\u001b[1;32m     50\u001b[0m                                                 image_shape\u001b[38;5;241m=\u001b[39m\u001b[38;5;28mself\u001b[39m\u001b[38;5;241m.\u001b[39mimage_shape,\n\u001b[1;32m     51\u001b[0m                                                 label\u001b[38;5;241m=\u001b[39mlabel_for_zero,\n\u001b[1;32m     52\u001b[0m                                                 images\u001b[38;5;241m=\u001b[39m\u001b[38;5;28mself\u001b[39m\u001b[38;5;241m.\u001b[39mtrain_data\u001b[38;5;241m.\u001b[39mdata)\n\u001b[1;32m     54\u001b[0m     \u001b[38;5;28mself\u001b[39m\u001b[38;5;241m.\u001b[39m_zero_data_for_test \u001b[38;5;241m=\u001b[39m ZeroClassDataset(num_samples\u001b[38;5;241m=\u001b[39mn_test_zeros,\n\u001b[1;32m     55\u001b[0m                                             image_shape\u001b[38;5;241m=\u001b[39m\u001b[38;5;28mself\u001b[39m\u001b[38;5;241m.\u001b[39mimage_shape,\n\u001b[1;32m     56\u001b[0m                                             label\u001b[38;5;241m=\u001b[39mlabel_for_zero,\n\u001b[1;32m     57\u001b[0m                                             images\u001b[38;5;241m=\u001b[39m\u001b[38;5;28mself\u001b[39m\u001b[38;5;241m.\u001b[39mtest_data\u001b[38;5;241m.\u001b[39mdata)\n",
      "File \u001b[0;32m~/dv/the_project/zero0.3/ZeroHelperFunctions/zero_class_images_generator_mnist.py:26\u001b[0m, in \u001b[0;36mZeroClassDataset.__init__\u001b[0;34m(self, images, num_samples, image_shape, label)\u001b[0m\n\u001b[1;32m     24\u001b[0m \u001b[38;5;28mself\u001b[39m\u001b[38;5;241m.\u001b[39mimage_shape \u001b[38;5;241m=\u001b[39m image_shape\n\u001b[1;32m     25\u001b[0m \u001b[38;5;28mself\u001b[39m\u001b[38;5;241m.\u001b[39mlabel \u001b[38;5;241m=\u001b[39m label\n\u001b[0;32m---> 26\u001b[0m \u001b[38;5;28mself\u001b[39m\u001b[38;5;241m.\u001b[39mdata, \u001b[38;5;28mself\u001b[39m\u001b[38;5;241m.\u001b[39mtargets \u001b[38;5;241m=\u001b[39m \u001b[38;5;28mself\u001b[39m\u001b[38;5;241m.\u001b[39mgenerate_data(images\u001b[38;5;241m=\u001b[39mimages)\n",
      "File \u001b[0;32m~/dv/the_project/zero0.3/ZeroHelperFunctions/zero_class_images_generator_mnist.py:38\u001b[0m, in \u001b[0;36mZeroClassDataset.generate_data\u001b[0;34m(self, images, percentage_padding_around)\u001b[0m\n\u001b[1;32m     33\u001b[0m     \u001b[38;5;28;01mfor\u001b[39;00m i \u001b[38;5;129;01min\u001b[39;00m \u001b[38;5;28mrange\u001b[39m(\u001b[38;5;28mself\u001b[39m\u001b[38;5;241m.\u001b[39mimage_shape[\u001b[38;5;241m1\u001b[39m]):\n\u001b[1;32m     34\u001b[0m         \u001b[38;5;28;01mfor\u001b[39;00m j \u001b[38;5;129;01min\u001b[39;00m \u001b[38;5;28mrange\u001b[39m(\u001b[38;5;28mself\u001b[39m\u001b[38;5;241m.\u001b[39mimage_shape[\u001b[38;5;241m2\u001b[39m]):\n\u001b[1;32m     35\u001b[0m             \u001b[38;5;66;03m# print(\"at this \", c, i, j)\u001b[39;00m\n\u001b[1;32m     36\u001b[0m             \u001b[38;5;66;03m# print(max_image[c, i, j], min_image[c, i, j])\u001b[39;00m\n\u001b[1;32m     37\u001b[0m             \u001b[38;5;66;03m# data[:, c, i, j] = np.random.randint(min_image[c, i, j], max_image[c, i, j]+1, self.num_samples)\u001b[39;00m\n\u001b[0;32m---> 38\u001b[0m             data[:, c, i, j] \u001b[38;5;241m=\u001b[39m np\u001b[38;5;241m.\u001b[39mrandom\u001b[38;5;241m.\u001b[39muniform(min_image[c, i, j], max_image[c, i, j], \u001b[38;5;28mself\u001b[39m\u001b[38;5;241m.\u001b[39mnum_samples)\n\u001b[1;32m     39\u001b[0m \u001b[38;5;66;03m# data = data/255\u001b[39;00m\n\u001b[1;32m     40\u001b[0m data \u001b[38;5;241m=\u001b[39m np\u001b[38;5;241m.\u001b[39msqueeze(data)\n",
      "\u001b[0;31mKeyboardInterrupt\u001b[0m: "
     ]
    }
   ],
   "source": [
    "\n",
    "BATCH_SIZE = 256\n",
    "\n",
    "mnist_train_data, mnist_test_data = preprocessed_mnist()\n",
    "\n",
    "\n",
    "mnist_dl = DataLoadersForZero(train_data=mnist_train_data,\n",
    "                        test_data=mnist_test_data,\n",
    "                        image_shape=(1, 28, 28))\n",
    "mnist_dl.make_dataloaders(batch_size=BATCH_SIZE, \n",
    "                    n_train_zeros=600_000, \n",
    "                    n_test_zeros=10_000,\n",
    "                    label_for_zero=10)\n",
    "mnist_dl.generate_zero_class_dataloader(100_000, BATCH_SIZE)\n",
    "\n",
    "\n",
    "\n",
    "NUM_DIMENSIONS = 28*28\n",
    "\n",
    "learning_rate = 0.01\n",
    "\n",
    "mnist_zero_model = FullyConnectedNet(input_dim=NUM_DIMENSIONS,\n",
    "                    layer1_dim=NUM_DIMENSIONS * 10,\n",
    "                    layer2_dim=NUM_DIMENSIONS * 5,\n",
    "                    layer3_dim=11*10,\n",
    "                    num_classes=11)\n",
    "# Import PyTorch\n",
    "\n",
    "\n",
    "mnist_zero_trainer = ZeroTrainer(model=mnist_zero_model,\n",
    "                        number_of_non_zero_classes=10,\n",
    "                        train_dl=mnist_dl.train0_dataloader,\n",
    "                        test_dl=mnist_dl.test_dataloader,\n",
    "                        purity_fact_dl=mnist_dl.test0_dataloader,\n",
    "                        zero_dl=mnist_dl.zero_dataloader,\n",
    "                        loss_fn=nn.CrossEntropyLoss(),\n",
    "                        optimizer=torch.optim.SGD(params=mnist_zero_model.parameters(), lr=learning_rate),\n",
    "                        label_of_zero_class=10,\n",
    "                        device=\"cuda\" if torch.cuda.is_available() else \"cpu\")\n",
    "\n",
    "mnist_zero_trainer = ZeroTrainer(model=mnist_zero_model,\n",
    "                        number_of_non_zero_classes=10,\n",
    "                        train_dl=mnist_dl.train0_dataloader,\n",
    "                        test_dl=mnist_dl.test_dataloader,\n",
    "                        purity_fact_dl=mnist_dl.test0_dataloader,\n",
    "                        zero_dl=mnist_dl.zero_dataloader,\n",
    "                        loss_fn=nn.CrossEntropyLoss(),\n",
    "                        optimizer=torch.optim.SGD(params=mnist_zero_model.parameters(), lr=learning_rate),\n",
    "                        label_of_zero_class=10,\n",
    "                        device=\"cuda\" if torch.cuda.is_available() else \"cpu\")\n"
   ]
  },
  {
   "cell_type": "code",
   "execution_count": null,
   "metadata": {},
   "outputs": [],
   "source": [
    "torch.cuda.is_available()"
   ]
  },
  {
   "cell_type": "code",
   "execution_count": null,
   "metadata": {},
   "outputs": [],
   "source": []
  },
  {
   "cell_type": "code",
   "execution_count": null,
   "metadata": {},
   "outputs": [],
   "source": [
    "mnist_zero_trainer.train(epochs=NUM_EPOCHS)"
   ]
  },
  {
   "cell_type": "code",
   "execution_count": null,
   "metadata": {},
   "outputs": [],
   "source": [
    "plots.plot_pf(mnist_zero_trainer.purities, title=\"MNIST\")\n",
    "plots.plot_of(mnist_zero_trainer.occupancy, title=\"MNIST\")\n",
    "plots.plot_train_test_losses(mnist_zero_trainer.train_loss,\n",
    "                             mnist_zero_trainer.test_loss, title=\"MNIST\")\n",
    "plots.plot_train_test_accs(mnist_zero_trainer.train_acc,\n",
    "                           mnist_zero_trainer.test_acc, title=\"MNIST\")"
   ]
  },
  {
   "cell_type": "code",
   "execution_count": null,
   "metadata": {},
   "outputs": [],
   "source": [
    "\n",
    "james = JamesWeb(device=\"cuda\" if torch.cuda.is_available() else \"cpu\")\n"
   ]
  },
  {
   "cell_type": "code",
   "execution_count": null,
   "metadata": {},
   "outputs": [],
   "source": [
    "james.add_model(model=mnist_zero_model,\n",
    "                model_name=\"MNIST\",\n",
    "                model_zero_class_label=10)\n",
    "mnist_test_data.targets = james.convert_labels(mnist_test_data.targets, model_name=\"MNIST\")\n"
   ]
  },
  {
   "cell_type": "code",
   "execution_count": null,
   "metadata": {},
   "outputs": [],
   "source": [
    "james.predictions(mnist_test_data.data[:10]), mnist_test_data.targets[:10]"
   ]
  },
  {
   "cell_type": "code",
   "execution_count": null,
   "metadata": {},
   "outputs": [],
   "source": [
    "MNIST_test_dataset = torch.utils.data.TensorDataset(mnist_test_data.data, mnist_test_data.targets)\n",
    "MNIST_dataloader = torch.utils.data.DataLoader(MNIST_test_dataset, batch_size=256, shuffle=True)\n",
    "acc1=0\n",
    "for X, y in MNIST_dataloader:\n",
    "    predictions = james.predictions(X)\n",
    "    acc1 += repository_accuracy_fn(y, predictions)\n",
    "acc1 = acc1/len(MNIST_dataloader)\n",
    "acc1"
   ]
  },
  {
   "cell_type": "markdown",
   "metadata": {},
   "source": [
    "# FashionMNIST"
   ]
  },
  {
   "cell_type": "code",
   "execution_count": null,
   "metadata": {},
   "outputs": [],
   "source": []
  },
  {
   "cell_type": "code",
   "execution_count": null,
   "metadata": {},
   "outputs": [],
   "source": [
    "fashion_BATCH_SIZE = 256\n",
    "\n",
    "fashion_mnist_train_data, fashion_mnist_test_data = preprocessed_fashion_mnist()\n",
    "\n",
    "fashion_mnist_dl = DataLoadersForZero(train_data=fashion_mnist_train_data,\n",
    "                        test_data=fashion_mnist_test_data,\n",
    "                        image_shape=(1, 28, 28))\n",
    "fashion_mnist_dl.make_dataloaders(batch_size=fashion_BATCH_SIZE, \n",
    "                    n_train_zeros=600_000, \n",
    "                    n_test_zeros=10_000,\n",
    "                    label_for_zero=10)\n",
    "\n",
    "fashion_mnist_dl.generate_zero_class_dataloader(100_000, fashion_BATCH_SIZE)\n",
    "\n",
    "\n",
    "NUM_DIMENSIONS = 28*28\n",
    "\n",
    "learning_rate = 0.01\n",
    "\n",
    "fashion_mnist_zero_model = FullyConnectedNet_powerful(input_dim=NUM_DIMENSIONS,\n",
    "                    layer1_dim=NUM_DIMENSIONS * 15,\n",
    "                    layer2_dim=NUM_DIMENSIONS * 10,\n",
    "                    layer3_dim=NUM_DIMENSIONS * 5,\n",
    "                    layer4_dim= NUM_DIMENSIONS,\n",
    "                    layer5_dim=11*10,\n",
    "                    num_classes=11)\n",
    "\n",
    "fashion_mnist_zero_trainer = ZeroTrainer(model=fashion_mnist_zero_model,\n",
    "                        number_of_non_zero_classes=10,\n",
    "                        train_dl=fashion_mnist_dl.train0_dataloader,\n",
    "                        test_dl=fashion_mnist_dl.test_dataloader,\n",
    "                        purity_fact_dl=fashion_mnist_dl.test0_dataloader,\n",
    "                        zero_dl=fashion_mnist_dl.zero_dataloader,\n",
    "                        loss_fn=nn.CrossEntropyLoss(),\n",
    "                        optimizer=torch.optim.SGD(params=fashion_mnist_zero_model.parameters(), lr=learning_rate),\n",
    "                        label_of_zero_class=10,\n",
    "                        device=\"cuda\" if torch.cuda.is_available() else \"cpu\")\n"
   ]
  },
  {
   "cell_type": "code",
   "execution_count": null,
   "metadata": {},
   "outputs": [],
   "source": [
    "fashion_mnist_zero_trainer.train(epochs=NUM_EPOCHS)"
   ]
  },
  {
   "cell_type": "code",
   "execution_count": null,
   "metadata": {},
   "outputs": [],
   "source": [
    "plots.plot_pf(fashion_mnist_zero_trainer.purities, title=\"FashionMNIST\")\n",
    "plots.plot_of(fashion_mnist_zero_trainer.occupancy, title=\"FashionMNIST\")\n",
    "plots.plot_train_test_losses(fashion_mnist_zero_trainer.train_loss,\n",
    "                             fashion_mnist_zero_trainer.test_loss, title=\"FashionMNIST\")\n",
    "plots.plot_train_test_accs(fashion_mnist_zero_trainer.train_acc,\n",
    "                           fashion_mnist_zero_trainer.test_acc, title=\"FashionMNIST\")"
   ]
  },
  {
   "cell_type": "code",
   "execution_count": null,
   "metadata": {},
   "outputs": [],
   "source": [
    "james.add_model(model=fashion_mnist_zero_model,\n",
    "                model_name=\"FashionMNIST\",\n",
    "                model_zero_class_label=10)\n",
    "fashion_mnist_test_data.targets = james.convert_labels(fashion_mnist_test_data.targets, \n",
    "                                                       model_name=\"FashionMNIST\")"
   ]
  },
  {
   "cell_type": "code",
   "execution_count": null,
   "metadata": {},
   "outputs": [],
   "source": [
    "james.predictions(fashion_mnist_test_data.data[:10]), fashion_mnist_test_data.targets[:10]"
   ]
  },
  {
   "cell_type": "code",
   "execution_count": null,
   "metadata": {},
   "outputs": [],
   "source": [
    "MNIST_and_FMNIST_data = torch.cat((mnist_test_data.data, fashion_mnist_test_data.data), dim=0)\n",
    "MNIST_and_FMNIST_labels = torch.cat((mnist_test_data.targets, fashion_mnist_test_data.targets), dim=0)"
   ]
  },
  {
   "cell_type": "code",
   "execution_count": null,
   "metadata": {},
   "outputs": [],
   "source": [
    "MNIST_and_FMNIST_test_dataset = torch.utils.data.TensorDataset(MNIST_and_FMNIST_data, MNIST_and_FMNIST_labels)\n",
    "MNIST_and_FMNIST_dataloader = torch.utils.data.DataLoader(MNIST_and_FMNIST_test_dataset, batch_size=256, shuffle=True)\n",
    "acc2=0\n",
    "for X, y in MNIST_and_FMNIST_dataloader:\n",
    "    predictions = james.predictions(X)\n",
    "    acc2 += repository_accuracy_fn(y, predictions)\n",
    "acc2 = acc2/len(MNIST_and_FMNIST_dataloader)\n",
    "acc2"
   ]
  },
  {
   "cell_type": "markdown",
   "metadata": {},
   "source": [
    "# KMNIST"
   ]
  },
  {
   "cell_type": "code",
   "execution_count": null,
   "metadata": {},
   "outputs": [],
   "source": [
    "k_BATCH_SIZE = 256\n",
    "\n",
    "k_mnist_train_data, k_mnist_test_data = preprocessed_k_mnist()\n",
    "\n",
    "k_mnist_dl = DataLoadersForZero(train_data=k_mnist_train_data,\n",
    "                        test_data=k_mnist_test_data,\n",
    "                        image_shape=(1, 28, 28))\n",
    "k_mnist_dl.make_dataloaders(batch_size=k_BATCH_SIZE, \n",
    "                    n_train_zeros=600_000, \n",
    "                    n_test_zeros=10_000,\n",
    "                    label_for_zero=10)\n",
    "k_mnist_dl.generate_zero_class_dataloader(100_000, k_BATCH_SIZE)\n",
    "\n",
    "\n",
    "NUM_DIMENSIONS = 28*28\n",
    "learning_rate = 0.01\n",
    "\n",
    "\n",
    "k_mnist_zero_model = FullyConnectedNet_powerful(input_dim=NUM_DIMENSIONS,\n",
    "                    layer1_dim=NUM_DIMENSIONS * 15,\n",
    "                    layer2_dim=NUM_DIMENSIONS * 10,\n",
    "                    layer3_dim=NUM_DIMENSIONS * 5,\n",
    "                    layer4_dim= NUM_DIMENSIONS,\n",
    "                    layer5_dim=11*10,\n",
    "                    num_classes=11)\n",
    "k_mnist_zero_trainer = ZeroTrainer(model=k_mnist_zero_model,\n",
    "                        number_of_non_zero_classes=10,\n",
    "                        train_dl=k_mnist_dl.train0_dataloader,\n",
    "                        test_dl=k_mnist_dl.test_dataloader,\n",
    "                        purity_fact_dl=k_mnist_dl.test0_dataloader,\n",
    "                        zero_dl=k_mnist_dl.zero_dataloader,\n",
    "                        loss_fn=nn.CrossEntropyLoss(),\n",
    "                        optimizer=torch.optim.SGD(params=k_mnist_zero_model.parameters(), lr=learning_rate),\n",
    "                        label_of_zero_class=10,\n",
    "                        device=\"cuda\" if torch.cuda.is_available() else \"cpu\")\n"
   ]
  },
  {
   "cell_type": "code",
   "execution_count": null,
   "metadata": {},
   "outputs": [],
   "source": [
    "k_mnist_zero_trainer.train(epochs=NUM_EPOCHS)"
   ]
  },
  {
   "cell_type": "code",
   "execution_count": null,
   "metadata": {},
   "outputs": [],
   "source": [
    "plots.plot_pf(k_mnist_zero_trainer.purities, title=\"KMNIST\")\n",
    "plots.plot_of(k_mnist_zero_trainer.occupancy, title=\"KMNIST\")\n",
    "plots.plot_train_test_losses(k_mnist_zero_trainer.train_loss,\n",
    "                             k_mnist_zero_trainer.test_loss, title=\"KMNIST\")\n",
    "plots.plot_train_test_accs(k_mnist_zero_trainer.train_acc,\n",
    "                           k_mnist_zero_trainer.test_acc, title=\"KMNIST\")"
   ]
  },
  {
   "cell_type": "code",
   "execution_count": null,
   "metadata": {},
   "outputs": [],
   "source": [
    "james.add_model(k_mnist_zero_model, \"KMNIST\", \n",
    "                model_zero_class_label=10)\n",
    "k_mnist_test_data.targets = james.convert_labels(k_mnist_test_data.targets,\n",
    "                                                 model_name=\"KMNIST\")"
   ]
  },
  {
   "cell_type": "code",
   "execution_count": null,
   "metadata": {},
   "outputs": [],
   "source": [
    "james.predictions(k_mnist_test_data.data[:20]), k_mnist_test_data.targets[:20]"
   ]
  },
  {
   "cell_type": "code",
   "execution_count": null,
   "metadata": {},
   "outputs": [],
   "source": [
    "MNIST_FMNIST_and_KMNIST_data = torch.cat((mnist_test_data.data, fashion_mnist_test_data.data, k_mnist_test_data.data), dim=0)\n",
    "MNIST_FMNIST_and_KMNIST_labels = torch.cat((mnist_test_data.targets, fashion_mnist_test_data.targets, k_mnist_test_data.targets), dim=0)"
   ]
  },
  {
   "cell_type": "code",
   "execution_count": null,
   "metadata": {},
   "outputs": [],
   "source": [
    "MNIST_FMNIST_and_KMNIST_test_dataset = torch.utils.data.TensorDataset(MNIST_FMNIST_and_KMNIST_data, MNIST_FMNIST_and_KMNIST_labels)\n",
    "MNIST_FMNIST_and_KMNIST_dataloader = torch.utils.data.DataLoader(MNIST_FMNIST_and_KMNIST_test_dataset, batch_size=256, shuffle=True)\n",
    "acc3=0\n",
    "for X, y in MNIST_FMNIST_and_KMNIST_dataloader:\n",
    "    predictions = james.predictions(X)\n",
    "    acc3 += repository_accuracy_fn(y, predictions)\n",
    "acc3 = acc3/len(MNIST_FMNIST_and_KMNIST_dataloader)\n",
    "acc3"
   ]
  }
 ],
 "metadata": {
  "kernelspec": {
   "display_name": "base",
   "language": "python",
   "name": "python3"
  },
  "language_info": {
   "codemirror_mode": {
    "name": "ipython",
    "version": 3
   },
   "file_extension": ".py",
   "mimetype": "text/x-python",
   "name": "python",
   "nbconvert_exporter": "python",
   "pygments_lexer": "ipython3",
   "version": "3.11.7"
  }
 },
 "nbformat": 4,
 "nbformat_minor": 4
}
